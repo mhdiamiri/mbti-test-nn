{
 "cells": [
  {
   "cell_type": "code",
   "execution_count": 1,
   "metadata": {},
   "outputs": [],
   "source": [
    "import pandas as pd\n",
    "from keras.models import Sequential\n",
    "from keras.layers import Dense, Activation\n",
    "from keras.utils import np_utils"
   ]
  },
  {
   "cell_type": "code",
   "execution_count": 2,
   "metadata": {},
   "outputs": [],
   "source": [
    "df = pd.read_csv('16P.csv', encoding='cp1252')"
   ]
  },
  {
   "cell_type": "code",
   "execution_count": 3,
   "metadata": {},
   "outputs": [
    {
     "data": {
      "text/plain": [
       "count     59999\n",
       "unique       16\n",
       "top        ESFP\n",
       "freq       3769\n",
       "Name: Personality, dtype: object"
      ]
     },
     "execution_count": 3,
     "metadata": {},
     "output_type": "execute_result"
    }
   ],
   "source": [
    "df['Personality'].describe()"
   ]
  },
  {
   "cell_type": "code",
   "execution_count": 4,
   "metadata": {},
   "outputs": [
    {
     "data": {
      "text/html": [
       "<div>\n",
       "<style scoped>\n",
       "    .dataframe tbody tr th:only-of-type {\n",
       "        vertical-align: middle;\n",
       "    }\n",
       "\n",
       "    .dataframe tbody tr th {\n",
       "        vertical-align: top;\n",
       "    }\n",
       "\n",
       "    .dataframe thead th {\n",
       "        text-align: right;\n",
       "    }\n",
       "</style>\n",
       "<table border=\"1\" class=\"dataframe\">\n",
       "  <thead>\n",
       "    <tr style=\"text-align: right;\">\n",
       "      <th></th>\n",
       "      <th>Response Id</th>\n",
       "      <th>You regularly make new friends.</th>\n",
       "      <th>You spend a lot of your free time exploring various random topics that pique your interest</th>\n",
       "      <th>Seeing other people cry can easily make you feel like you want to cry too</th>\n",
       "      <th>You often make a backup plan for a backup plan.</th>\n",
       "      <th>You usually stay calm, even under a lot of pressure</th>\n",
       "      <th>At social events, you rarely try to introduce yourself to new people and mostly talk to the ones you already know</th>\n",
       "      <th>You prefer to completely finish one project before starting another.</th>\n",
       "      <th>You are very sentimental.</th>\n",
       "      <th>You like to use organizing tools like schedules and lists.</th>\n",
       "      <th>...</th>\n",
       "      <th>You believe that pondering abstract philosophical questions is a waste of time.</th>\n",
       "      <th>You feel more drawn to places with busy, bustling atmospheres than quiet, intimate places.</th>\n",
       "      <th>You know at first glance how someone is feeling.</th>\n",
       "      <th>You often feel overwhelmed.</th>\n",
       "      <th>You complete things methodically without skipping over any steps.</th>\n",
       "      <th>You are very intrigued by things labeled as controversial.</th>\n",
       "      <th>You would pass along a good opportunity if you thought someone else needed it more.</th>\n",
       "      <th>You struggle with deadlines.</th>\n",
       "      <th>You feel confident that things will work out for you.</th>\n",
       "      <th>Personality</th>\n",
       "    </tr>\n",
       "  </thead>\n",
       "  <tbody>\n",
       "  </tbody>\n",
       "</table>\n",
       "<p>0 rows × 62 columns</p>\n",
       "</div>"
      ],
      "text/plain": [
       "Empty DataFrame\n",
       "Columns: [Response Id, You regularly make new friends., You spend a lot of your free time exploring various random topics that pique your interest, Seeing other people cry can easily make you feel like you want to cry too, You often make a backup plan for a backup plan., You usually stay calm, even under a lot of pressure, At social events, you rarely try to introduce yourself to new people and mostly talk to the ones you already know, You prefer to completely finish one project before starting another., You are very sentimental., You like to use organizing tools like schedules and lists., Even a small mistake can cause you to doubt your overall abilities and knowledge., You feel comfortable just walking up to someone you find interesting and striking up a conversation., You are not too interested in discussing various interpretations and analyses of creative works., You are more inclined to follow your head than your heart., You usually prefer just doing what you feel like at any given moment instead of planning a particular daily routine., You rarely worry about whether you make a good impression on people you meet., You enjoy participating in group activities., You like books and movies that make you come up with your own interpretation of the ending., Your happiness comes more from helping others accomplish things than your own accomplishments., You are interested in so many things that you find it difficult to choose what to try next., You are prone to worrying that things will take a turn for the worse., You avoid leadership roles in group settings., You are definitely not an artistic type of person., You think the world would be a better place if people relied more on rationality and less on their feelings., You prefer to do your chores before allowing yourself to relax., You enjoy watching people argue., You tend to avoid drawing attention to yourself., Your mood can change very quickly., You lose patience with people who are not as efficient as you., You often end up doing things at the last possible moment., You have always been fascinated by the question of what, if anything, happens after death., You usually prefer to be around others rather than on your own., You become bored or lose interest when the discussion gets highly theoretical., You find it easy to empathize with a person whose experiences are very different from yours., You usually postpone finalizing decisions for as long as possible., You rarely second-guess the choices that you have made., After a long and exhausting week, a lively social event is just what you need., You enjoy going to art museums., You often have a hard time understanding other people’s feelings., You like to have a to-do list for each day., You rarely feel insecure., You avoid making phone calls., You often spend a lot of time trying to understand views that are very different from your own., In your social circle, you are often the one who contacts your friends and initiates activities., If your plans are interrupted, your top priority is to get back on track as soon as possible., You are still bothered by mistakes that you made a long time ago., You rarely contemplate the reasons for human existence or the meaning of life., Your emotions control you more than you control them., You take great care not to make people look bad, even when it is completely their fault., Your personal work style is closer to spontaneous bursts of energy than organized and consistent efforts., When someone thinks highly of you, you wonder how long it will take them to feel disappointed in you., You would love a job that requires you to work alone most of the time., You believe that pondering abstract philosophical questions is a waste of time., You feel more drawn to places with busy, bustling atmospheres than quiet, intimate places., You know at first glance how someone is feeling., You often feel overwhelmed., You complete things methodically without skipping over any steps., You are very intrigued by things labeled as controversial., You would pass along a good opportunity if you thought someone else needed it more., You struggle with deadlines., You feel confident that things will work out for you., Personality]\n",
       "Index: []\n",
       "\n",
       "[0 rows x 62 columns]"
      ]
     },
     "execution_count": 4,
     "metadata": {},
     "output_type": "execute_result"
    }
   ],
   "source": [
    "df[df.isna().any(axis=1)]"
   ]
  },
  {
   "cell_type": "code",
   "execution_count": 5,
   "metadata": {},
   "outputs": [],
   "source": [
    "mapping = { \n",
    "    \t\"ESTJ\" : 0,\n",
    "\t    \"ENTJ\" : 1,\n",
    "\t    \"ESFJ\" : 2,\n",
    "\t    \"ENFJ\" : 3,\n",
    "\t    \"ISTJ\" : 4,\n",
    "    \t\"ISFJ\" : 5,\n",
    "\t    \"INTJ\" : 6,\n",
    "\t    \"INFJ\" : 7,\n",
    "\t    \"ESTP\" : 8,\n",
    "\t    \"ESFP\" : 9,\n",
    "\t    \"ENTP\" : 10,\n",
    "\t    \"ENFP\" : 11,\n",
    "\t    \"ISTP\" : 12,\n",
    "\t    \"ISFP\" : 13,\n",
    "\t    \"INTP\" : 14,\n",
    "\t    \"INFP\" : 15\n",
    "\n",
    "}"
   ]
  },
  {
   "cell_type": "code",
   "execution_count": 6,
   "metadata": {},
   "outputs": [],
   "source": [
    "x = df.drop(columns=['Response Id', \"Personality\"])\n",
    "y = df[\"Personality\"]\n",
    "y = y.map(mapping)\n"
   ]
  },
  {
   "cell_type": "code",
   "execution_count": 7,
   "metadata": {},
   "outputs": [
    {
     "data": {
      "text/plain": [
       "0        11\n",
       "1        13\n",
       "2         7\n",
       "3        12\n",
       "4         3\n",
       "         ..\n",
       "59994     7\n",
       "59995     8\n",
       "59996    12\n",
       "59997     4\n",
       "59998     7\n",
       "Name: Personality, Length: 59999, dtype: int64"
      ]
     },
     "execution_count": 7,
     "metadata": {},
     "output_type": "execute_result"
    }
   ],
   "source": [
    "y"
   ]
  },
  {
   "cell_type": "code",
   "execution_count": 8,
   "metadata": {},
   "outputs": [],
   "source": [
    "y = np_utils.to_categorical(y, 16)"
   ]
  },
  {
   "cell_type": "code",
   "execution_count": 9,
   "metadata": {},
   "outputs": [
    {
     "data": {
      "text/plain": [
       "array([0., 0., 0., 0., 0., 0., 0., 0., 0., 0., 0., 1., 0., 0., 0., 0.],\n",
       "      dtype=float32)"
      ]
     },
     "execution_count": 9,
     "metadata": {},
     "output_type": "execute_result"
    }
   ],
   "source": [
    "y[0]"
   ]
  },
  {
   "cell_type": "code",
   "execution_count": 10,
   "metadata": {},
   "outputs": [],
   "source": [
    "from sklearn.model_selection import train_test_split\n",
    "X_train, x_test, y_train, y_test = train_test_split(x, y, test_size=0.2)"
   ]
  },
  {
   "cell_type": "code",
   "execution_count": 11,
   "metadata": {},
   "outputs": [],
   "source": [
    "#parameters\n",
    "input_size = 60\n",
    "hidden_neurons = 100\n",
    "hidden_neurons_2 = 60\n",
    "output_size = 16\n",
    "\n",
    "model = Sequential([\n",
    "    Dense(output_size, input_dim = input_size),\n",
    "    Activation('LeakyReLU'),\n",
    "    Dense(hidden_neurons_2),\n",
    "    Activation(\"LeakyReLU\"),\n",
    "    Dense(output_size),\n",
    "    Activation(\"softmax\")\n",
    "])\n",
    "\n",
    "model.compile(loss='categorical_crossentropy', \n",
    "              metrics = ['accuracy'], optimizer = 'sgd')"
   ]
  },
  {
   "cell_type": "code",
   "execution_count": 12,
   "metadata": {},
   "outputs": [
    {
     "name": "stdout",
     "output_type": "stream",
     "text": [
      "Epoch 1/100\n",
      "   1/1500 [..............................] - ETA: 4:07 - loss: 2.7985 - accuracy: 0.1250"
     ]
    },
    {
     "name": "stderr",
     "output_type": "stream",
     "text": [
      "2022-07-28 10:31:24.503947: W tensorflow/core/platform/profile_utils/cpu_utils.cc:128] Failed to get CPU frequency: 0 Hz\n"
     ]
    },
    {
     "name": "stdout",
     "output_type": "stream",
     "text": [
      "1500/1500 [==============================] - 1s 370us/step - loss: 1.2973 - accuracy: 0.6241\n",
      "Epoch 2/100\n",
      "1500/1500 [==============================] - 1s 414us/step - loss: 0.4967 - accuracy: 0.8623\n",
      "Epoch 3/100\n",
      "1500/1500 [==============================] - 1s 415us/step - loss: 0.3965 - accuracy: 0.8954\n",
      "Epoch 4/100\n",
      "1500/1500 [==============================] - 1s 380us/step - loss: 0.3564 - accuracy: 0.9092\n",
      "Epoch 5/100\n",
      "1500/1500 [==============================] - 1s 355us/step - loss: 0.3322 - accuracy: 0.9175\n",
      "Epoch 6/100\n",
      "1500/1500 [==============================] - 1s 354us/step - loss: 0.3152 - accuracy: 0.9223\n",
      "Epoch 7/100\n",
      "1500/1500 [==============================] - 1s 353us/step - loss: 0.3016 - accuracy: 0.9280\n",
      "Epoch 8/100\n",
      "1500/1500 [==============================] - 1s 356us/step - loss: 0.2910 - accuracy: 0.9312\n",
      "Epoch 9/100\n",
      "1500/1500 [==============================] - 1s 369us/step - loss: 0.2815 - accuracy: 0.9348\n",
      "Epoch 10/100\n",
      "1500/1500 [==============================] - 1s 353us/step - loss: 0.2738 - accuracy: 0.9378\n",
      "Epoch 11/100\n",
      "1500/1500 [==============================] - 1s 350us/step - loss: 0.2666 - accuracy: 0.9395\n",
      "Epoch 12/100\n",
      "1500/1500 [==============================] - 1s 353us/step - loss: 0.2602 - accuracy: 0.9415\n",
      "Epoch 13/100\n",
      "1500/1500 [==============================] - 1s 349us/step - loss: 0.2544 - accuracy: 0.9434\n",
      "Epoch 14/100\n",
      "1500/1500 [==============================] - 1s 351us/step - loss: 0.2494 - accuracy: 0.9455\n",
      "Epoch 15/100\n",
      "1500/1500 [==============================] - 1s 349us/step - loss: 0.2449 - accuracy: 0.9466\n",
      "Epoch 16/100\n",
      "1500/1500 [==============================] - 1s 351us/step - loss: 0.2406 - accuracy: 0.9487\n",
      "Epoch 17/100\n",
      "1500/1500 [==============================] - 1s 349us/step - loss: 0.2367 - accuracy: 0.9502\n",
      "Epoch 18/100\n",
      "1500/1500 [==============================] - 1s 348us/step - loss: 0.2333 - accuracy: 0.9511\n",
      "Epoch 19/100\n",
      "1500/1500 [==============================] - 1s 352us/step - loss: 0.2298 - accuracy: 0.9521\n",
      "Epoch 20/100\n",
      "1500/1500 [==============================] - 1s 352us/step - loss: 0.2267 - accuracy: 0.9535\n",
      "Epoch 21/100\n",
      "1500/1500 [==============================] - 1s 351us/step - loss: 0.2237 - accuracy: 0.9546\n",
      "Epoch 22/100\n",
      "1500/1500 [==============================] - 1s 348us/step - loss: 0.2212 - accuracy: 0.9560\n",
      "Epoch 23/100\n",
      "1500/1500 [==============================] - 1s 348us/step - loss: 0.2187 - accuracy: 0.9564\n",
      "Epoch 24/100\n",
      "1500/1500 [==============================] - 1s 351us/step - loss: 0.2163 - accuracy: 0.9574\n",
      "Epoch 25/100\n",
      "1500/1500 [==============================] - 1s 347us/step - loss: 0.2140 - accuracy: 0.9580\n",
      "Epoch 26/100\n",
      "1500/1500 [==============================] - 1s 346us/step - loss: 0.2116 - accuracy: 0.9592\n",
      "Epoch 27/100\n",
      "1500/1500 [==============================] - 1s 346us/step - loss: 0.2095 - accuracy: 0.9594\n",
      "Epoch 28/100\n",
      "1500/1500 [==============================] - 1s 345us/step - loss: 0.2074 - accuracy: 0.9603\n",
      "Epoch 29/100\n",
      "1500/1500 [==============================] - 1s 356us/step - loss: 0.2055 - accuracy: 0.9609\n",
      "Epoch 30/100\n",
      "1500/1500 [==============================] - 1s 344us/step - loss: 0.2035 - accuracy: 0.9614\n",
      "Epoch 31/100\n",
      "1500/1500 [==============================] - 1s 344us/step - loss: 0.2018 - accuracy: 0.9618\n",
      "Epoch 32/100\n",
      "1500/1500 [==============================] - 1s 346us/step - loss: 0.1997 - accuracy: 0.9621\n",
      "Epoch 33/100\n",
      "1500/1500 [==============================] - 1s 347us/step - loss: 0.1982 - accuracy: 0.9630\n",
      "Epoch 34/100\n",
      "1500/1500 [==============================] - 1s 345us/step - loss: 0.1966 - accuracy: 0.9636\n",
      "Epoch 35/100\n",
      "1500/1500 [==============================] - 1s 345us/step - loss: 0.1950 - accuracy: 0.9639\n",
      "Epoch 36/100\n",
      "1500/1500 [==============================] - 1s 345us/step - loss: 0.1933 - accuracy: 0.9643\n",
      "Epoch 37/100\n",
      "1500/1500 [==============================] - 1s 343us/step - loss: 0.1919 - accuracy: 0.9644\n",
      "Epoch 38/100\n",
      "1500/1500 [==============================] - 1s 342us/step - loss: 0.1906 - accuracy: 0.9651\n",
      "Epoch 39/100\n",
      "1500/1500 [==============================] - 1s 353us/step - loss: 0.1896 - accuracy: 0.9652\n",
      "Epoch 40/100\n",
      "1500/1500 [==============================] - 1s 346us/step - loss: 0.1882 - accuracy: 0.9658\n",
      "Epoch 41/100\n",
      "1500/1500 [==============================] - 1s 345us/step - loss: 0.1872 - accuracy: 0.9662\n",
      "Epoch 42/100\n",
      "1500/1500 [==============================] - 1s 345us/step - loss: 0.1860 - accuracy: 0.9667\n",
      "Epoch 43/100\n",
      "1500/1500 [==============================] - 1s 344us/step - loss: 0.1849 - accuracy: 0.9666\n",
      "Epoch 44/100\n",
      "1500/1500 [==============================] - 1s 346us/step - loss: 0.1840 - accuracy: 0.9670\n",
      "Epoch 45/100\n",
      "1500/1500 [==============================] - 1s 340us/step - loss: 0.1830 - accuracy: 0.9676\n",
      "Epoch 46/100\n",
      "1500/1500 [==============================] - 1s 342us/step - loss: 0.1822 - accuracy: 0.9676\n",
      "Epoch 47/100\n",
      "1500/1500 [==============================] - 1s 356us/step - loss: 0.1812 - accuracy: 0.9680\n",
      "Epoch 48/100\n",
      "1500/1500 [==============================] - 1s 349us/step - loss: 0.1802 - accuracy: 0.9686\n",
      "Epoch 49/100\n",
      "1500/1500 [==============================] - 1s 345us/step - loss: 0.1792 - accuracy: 0.9684\n",
      "Epoch 50/100\n",
      "1500/1500 [==============================] - 1s 362us/step - loss: 0.1784 - accuracy: 0.9685\n",
      "Epoch 51/100\n",
      "1500/1500 [==============================] - 1s 351us/step - loss: 0.1777 - accuracy: 0.9689\n",
      "Epoch 52/100\n",
      "1500/1500 [==============================] - 1s 347us/step - loss: 0.1770 - accuracy: 0.9692\n",
      "Epoch 53/100\n",
      "1500/1500 [==============================] - 1s 348us/step - loss: 0.1763 - accuracy: 0.9700\n",
      "Epoch 54/100\n",
      "1500/1500 [==============================] - 1s 344us/step - loss: 0.1755 - accuracy: 0.9696\n",
      "Epoch 55/100\n",
      "1500/1500 [==============================] - 1s 346us/step - loss: 0.1749 - accuracy: 0.9700\n",
      "Epoch 56/100\n",
      "1500/1500 [==============================] - 1s 347us/step - loss: 0.1741 - accuracy: 0.9696\n",
      "Epoch 57/100\n",
      "1500/1500 [==============================] - 1s 345us/step - loss: 0.1734 - accuracy: 0.9701\n",
      "Epoch 58/100\n",
      "1500/1500 [==============================] - 1s 348us/step - loss: 0.1726 - accuracy: 0.9705\n",
      "Epoch 59/100\n",
      "1500/1500 [==============================] - 1s 351us/step - loss: 0.1719 - accuracy: 0.9708\n",
      "Epoch 60/100\n",
      "1500/1500 [==============================] - 1s 352us/step - loss: 0.1715 - accuracy: 0.9705\n",
      "Epoch 61/100\n",
      "1500/1500 [==============================] - 1s 350us/step - loss: 0.1708 - accuracy: 0.9708\n",
      "Epoch 62/100\n",
      "1500/1500 [==============================] - 1s 361us/step - loss: 0.1702 - accuracy: 0.9712\n",
      "Epoch 63/100\n",
      "1500/1500 [==============================] - 1s 350us/step - loss: 0.1698 - accuracy: 0.9712\n",
      "Epoch 64/100\n",
      "1500/1500 [==============================] - 1s 353us/step - loss: 0.1690 - accuracy: 0.9712\n",
      "Epoch 65/100\n",
      "1500/1500 [==============================] - 1s 366us/step - loss: 0.1688 - accuracy: 0.9715\n",
      "Epoch 66/100\n",
      "1500/1500 [==============================] - 1s 356us/step - loss: 0.1679 - accuracy: 0.9715\n",
      "Epoch 67/100\n",
      "1500/1500 [==============================] - 1s 355us/step - loss: 0.1676 - accuracy: 0.9718\n",
      "Epoch 68/100\n",
      "1500/1500 [==============================] - 1s 354us/step - loss: 0.1671 - accuracy: 0.9716\n",
      "Epoch 69/100\n",
      "1500/1500 [==============================] - 1s 354us/step - loss: 0.1664 - accuracy: 0.9720\n",
      "Epoch 70/100\n",
      "1500/1500 [==============================] - 1s 352us/step - loss: 0.1659 - accuracy: 0.9720\n",
      "Epoch 71/100\n",
      "1500/1500 [==============================] - 1s 357us/step - loss: 0.1653 - accuracy: 0.9719\n",
      "Epoch 72/100\n",
      "1500/1500 [==============================] - 1s 354us/step - loss: 0.1648 - accuracy: 0.9726\n",
      "Epoch 73/100\n",
      "1500/1500 [==============================] - 1s 354us/step - loss: 0.1646 - accuracy: 0.9725\n",
      "Epoch 74/100\n",
      "1500/1500 [==============================] - 1s 355us/step - loss: 0.1641 - accuracy: 0.9726\n",
      "Epoch 75/100\n",
      "1500/1500 [==============================] - 1s 353us/step - loss: 0.1637 - accuracy: 0.9725\n",
      "Epoch 76/100\n",
      "1500/1500 [==============================] - 1s 356us/step - loss: 0.1633 - accuracy: 0.9730\n",
      "Epoch 77/100\n",
      "1500/1500 [==============================] - 1s 357us/step - loss: 0.1628 - accuracy: 0.9729\n",
      "Epoch 78/100\n",
      "1500/1500 [==============================] - 1s 352us/step - loss: 0.1623 - accuracy: 0.9730\n",
      "Epoch 79/100\n",
      "1500/1500 [==============================] - 1s 369us/step - loss: 0.1619 - accuracy: 0.9734\n",
      "Epoch 80/100\n",
      "1500/1500 [==============================] - 1s 353us/step - loss: 0.1616 - accuracy: 0.9732\n",
      "Epoch 81/100\n",
      "1500/1500 [==============================] - 1s 351us/step - loss: 0.1612 - accuracy: 0.9733\n",
      "Epoch 82/100\n",
      "1500/1500 [==============================] - 1s 351us/step - loss: 0.1606 - accuracy: 0.9734\n",
      "Epoch 83/100\n",
      "1500/1500 [==============================] - 1s 363us/step - loss: 0.1606 - accuracy: 0.9732\n",
      "Epoch 84/100\n",
      "1500/1500 [==============================] - 1s 350us/step - loss: 0.1599 - accuracy: 0.9732\n",
      "Epoch 85/100\n",
      "1500/1500 [==============================] - 1s 351us/step - loss: 0.1597 - accuracy: 0.9739\n",
      "Epoch 86/100\n",
      "1500/1500 [==============================] - 1s 351us/step - loss: 0.1589 - accuracy: 0.9743\n",
      "Epoch 87/100\n",
      "1500/1500 [==============================] - 1s 357us/step - loss: 0.1588 - accuracy: 0.9736\n",
      "Epoch 88/100\n",
      "1500/1500 [==============================] - 1s 351us/step - loss: 0.1584 - accuracy: 0.9739\n",
      "Epoch 89/100\n",
      "1500/1500 [==============================] - 1s 353us/step - loss: 0.1583 - accuracy: 0.9741\n",
      "Epoch 90/100\n",
      "1500/1500 [==============================] - 1s 352us/step - loss: 0.1579 - accuracy: 0.9744\n",
      "Epoch 91/100\n",
      "1500/1500 [==============================] - 1s 352us/step - loss: 0.1573 - accuracy: 0.9743\n",
      "Epoch 92/100\n",
      "1500/1500 [==============================] - 1s 371us/step - loss: 0.1572 - accuracy: 0.9743\n",
      "Epoch 93/100\n",
      "1500/1500 [==============================] - 1s 362us/step - loss: 0.1568 - accuracy: 0.9745\n",
      "Epoch 94/100\n",
      "1500/1500 [==============================] - 1s 363us/step - loss: 0.1563 - accuracy: 0.9747\n",
      "Epoch 95/100\n",
      "1500/1500 [==============================] - 1s 358us/step - loss: 0.1561 - accuracy: 0.9746\n",
      "Epoch 96/100\n",
      "1500/1500 [==============================] - 1s 351us/step - loss: 0.1558 - accuracy: 0.9741\n",
      "Epoch 97/100\n",
      "1500/1500 [==============================] - 1s 360us/step - loss: 0.1553 - accuracy: 0.9747\n",
      "Epoch 98/100\n",
      "1500/1500 [==============================] - 1s 350us/step - loss: 0.1553 - accuracy: 0.9748\n",
      "Epoch 99/100\n",
      "1500/1500 [==============================] - 1s 352us/step - loss: 0.1548 - accuracy: 0.9749\n",
      "Epoch 100/100\n",
      "1500/1500 [==============================] - 1s 360us/step - loss: 0.1545 - accuracy: 0.9750\n"
     ]
    },
    {
     "data": {
      "text/plain": [
       "<keras.callbacks.History at 0x2917dce80>"
      ]
     },
     "execution_count": 12,
     "metadata": {},
     "output_type": "execute_result"
    }
   ],
   "source": [
    "model.fit(X_train, y_train, epochs= 100, verbose=1)"
   ]
  },
  {
   "cell_type": "code",
   "execution_count": 13,
   "metadata": {},
   "outputs": [
    {
     "name": "stdout",
     "output_type": "stream",
     "text": [
      "375/375 [==============================] - 0s 302us/step - loss: 0.1666 - accuracy: 0.9700\n"
     ]
    },
    {
     "data": {
      "text/plain": [
       "[0.16661380231380463, 0.9700000286102295]"
      ]
     },
     "execution_count": 13,
     "metadata": {},
     "output_type": "execute_result"
    }
   ],
   "source": [
    "model.evaluate(x_test, y_test)"
   ]
  },
  {
   "cell_type": "code",
   "execution_count": null,
   "metadata": {},
   "outputs": [],
   "source": []
  }
 ],
 "metadata": {
  "kernelspec": {
   "display_name": "Python 3.9.13 64-bit",
   "language": "python",
   "name": "python3"
  },
  "language_info": {
   "codemirror_mode": {
    "name": "ipython",
    "version": 3
   },
   "file_extension": ".py",
   "mimetype": "text/x-python",
   "name": "python",
   "nbconvert_exporter": "python",
   "pygments_lexer": "ipython3",
   "version": "3.9.13"
  },
  "orig_nbformat": 4,
  "vscode": {
   "interpreter": {
    "hash": "b0fa6594d8f4cbf19f97940f81e996739fb7646882a419484c72d19e05852a7e"
   }
  }
 },
 "nbformat": 4,
 "nbformat_minor": 2
}
